{
  "nbformat": 4,
  "nbformat_minor": 0,
  "metadata": {
    "colab": {
      "provenance": [],
      "authorship_tag": "ABX9TyPz0SQeyOtn+FGs2CNLRvtR",
      "include_colab_link": true
    },
    "kernelspec": {
      "name": "python3",
      "display_name": "Python 3"
    },
    "language_info": {
      "name": "python"
    }
  },
  "cells": [
    {
      "cell_type": "markdown",
      "metadata": {
        "id": "view-in-github",
        "colab_type": "text"
      },
      "source": [
        "<a href=\"https://colab.research.google.com/github/JamileDelmondes/Meu_primeiro_curso_dev/blob/main/Leitura_placa_de_carros.ipynb\" target=\"_parent\"><img src=\"https://colab.research.google.com/assets/colab-badge.svg\" alt=\"Open In Colab\"/></a>"
      ]
    },
    {
      "cell_type": "markdown",
      "source": [
        "Atividade do Diego Rodrigues (Ciência de Dados).\n",
        "Passada no dia: 08/02/2024.\n",
        "Feita no dia: 10/02/2024."
      ],
      "metadata": {
        "id": "pQC8CG5wsmEd"
      }
    },
    {
      "cell_type": "code",
      "execution_count": null,
      "metadata": {
        "colab": {
          "base_uri": "https://localhost:8080/"
        },
        "id": "biADI9NIj4Hh",
        "outputId": "df9b7178-0238-4628-eb12-3c7440975831"
      },
      "outputs": [
        {
          "output_type": "stream",
          "name": "stdout",
          "text": [
            "Qual seu nome?: 3\n",
            "Bom dia 3 !\n",
            "Veja as atribuições dos dias da semana para que nos informe corretamente: segunda = 11, terça = 22, quarta = 33, quinta = 44, sexta = 55\n",
            "Por favor, que dia é hoje?: 33\n",
            "Por favor, me informe o último dígito da placa do seu carro: 5\n",
            "Se a placa do seu carro finaliza com o número 5 ou 6, você só pode transitar às quartas-feiras\n",
            "Você pode transitar hoje\n"
          ]
        }
      ],
      "source": [
        "nome = str(input(\"Qual seu nome?: \"))\n",
        "\n",
        "print(\"Bom dia\", nome,\"!\")\n",
        "\n",
        "\n",
        "print(\"Veja as atribuições dos dias da semana para que nos informe corretamente: segunda = 11, terça = 22, quarta = 33, quinta = 44, sexta = 55\")\n",
        "\n",
        "ddsemana = int(input(\"Por favor, que dia é hoje?: \"))\n",
        "\n",
        "\n",
        "digito = float(input(\"Por favor, me informe o último dígito da placa do seu carro: \"))\n",
        "\n",
        "if digito == 1 or digito == 2:\n",
        "  print(\"Se a placa do seu carro finaliza com o número 1 ou 2, você só pode transitar às segundas-feiras\")\n",
        "  if ddsemana == 11:\n",
        "    print(\"Você pode transitar hoje\")\n",
        "  else:\n",
        "    print(\"Sinto muito, melhor ficar em casa hoje\")\n",
        "\n",
        "elif digito == 3 or digito == 4:\n",
        "  print(\"Se a placa do seu carro finaliza com o número 3 ou 4, você só pode transitar às terças-feiras\")\n",
        "  if ddsemana == 22:\n",
        "    print(\"Você pode transitar hoje\")\n",
        "  else:\n",
        "    print(\"Sinto muito, melhor ficar em casa hoje\")\n",
        "\n",
        "elif digito == 5 or digito == 6:\n",
        "  print(\"Se a placa do seu carro finaliza com o número 5 ou 6, você só pode transitar às quartas-feiras\")\n",
        "  if ddsemana == 33:\n",
        "    print(\"Você pode transitar hoje\")\n",
        "  else:\n",
        "    print(\"Sinto muito, melhor ficar em casa hoje\")\n",
        "\n",
        "elif digito == 7 or digito == 8:\n",
        "  print(\"Se a placa do seu carro finaliza com o número 7 ou 8, você só pode transitar às quintas-feiras\")\n",
        "  if ddsemana == 44:\n",
        "    print(\"Você pode transitar hoje\")\n",
        "  else:\n",
        "    print(\"Sinto muito, melhor ficar em casa hoje\")\n",
        "\n",
        "elif digito == 9 or digito == 0:\n",
        "  print(\"Se a placa do seu carro finaliza com o número 9 ou 0, você só pode transitar às sextas-feiras\")\n",
        "  if ddsemana == 55:\n",
        "    print(\"Você pode transitar hoje\")\n",
        "  else:\n",
        "    print(\"Sinto muito, melhor ficar em casa hoje\")"
      ]
    }
  ]
}