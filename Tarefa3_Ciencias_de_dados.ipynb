{
  "nbformat": 4,
  "nbformat_minor": 0,
  "metadata": {
    "colab": {
      "provenance": [],
      "authorship_tag": "ABX9TyOe+kgVKSVoozmqqijm7bgg",
      "include_colab_link": true
    },
    "kernelspec": {
      "name": "python3",
      "display_name": "Python 3"
    },
    "language_info": {
      "name": "python"
    }
  },
  "cells": [
    {
      "cell_type": "markdown",
      "metadata": {
        "id": "view-in-github",
        "colab_type": "text"
      },
      "source": [
        "<a href=\"https://colab.research.google.com/github/JamileDelmondes/Meu_primeiro_curso_dev/blob/main/Tarefa3_Ciencias_de_dados.ipynb\" target=\"_parent\"><img src=\"https://colab.research.google.com/assets/colab-badge.svg\" alt=\"Open In Colab\"/></a>"
      ]
    },
    {
      "cell_type": "markdown",
      "source": [
        "Login em um site de cunho escolar.\n",
        "\n",
        "---\n",
        "Atividade realizada no dia 02/03/2024"
      ],
      "metadata": {
        "id": "1QL7pzx9CVto"
      }
    },
    {
      "cell_type": "code",
      "execution_count": 14,
      "metadata": {
        "colab": {
          "base_uri": "https://localhost:8080/"
        },
        "id": "wRY7-RZp044l",
        "outputId": "86b4fb8d-09dd-4d73-fdb3-d8a7fe9614e1"
      },
      "outputs": [
        {
          "output_type": "stream",
          "name": "stdout",
          "text": [
            "Digite seu usuário:ademir\n",
            "Digite a sua senha:admin\n",
            "Você digitou o usuário correto? False\n",
            "Você digitou o senha correto? True\n",
            "Usuário ou senha incorretos, tente novamente mais tarde.\n"
          ]
        }
      ],
      "source": [
        "us = str(input(\"Digite seu usuário:\"))\n",
        "se = str(input(\"Digite a sua senha:\"))\n",
        "\n",
        "a = \"admin\"\n",
        "c = us == a\n",
        "d = se == a\n",
        "\n",
        "print(\"Você digitou o usuário correto?\", c)\n",
        "print(\"Você digitou o senha correto?\", d)\n",
        "\n",
        "if c and d:\n",
        "  print (\"Selecione a opção que você deseja, as opções são Cadastro Direto: 1; Cadastro do Professor: 2; Cadastro do Aluno: 3; Calculadora: 4.\")\n",
        "  opcao = int(input(\"Opção: \"))\n",
        "  if opcao == 1:\n",
        "    print(\"Você selecionou Cadastro Direto! Responda a alguns questionamentos sobre seus dados:\")\n",
        "    nome = str(input(\"Qual seu nome de usuário? \"))\n",
        "    senha = float(input(\"Qual sua senha? \"))\n",
        "    tipodeid = float(input(\"Qual o tipo do seu ID? \"))\n",
        "    print(\"As informações fornecidas foram: Usuário:\",us,\"; Senha:\",se,\"; Nome:\",nome,\"; Senha fornecida:\",senha,\"; Tipo de ID:\",tipodeid)\n",
        "  elif opcao == 2:\n",
        "    print(\"Você selecionou Cadastro do Professor! Responda a alguns questionamentos sobre seus dados:\")\n",
        "    professor = str(input(\"Qual seu nome, professor? \"))\n",
        "    materia = str(input(\"Que matéria você leciona? \"))\n",
        "    id = float(input(\"Qual o seu ID? \"))\n",
        "    print(\"As informações fornecidas foram: Usuário:\",us,\"; Senha:\",se,\"; Nome:\",professor,\"; Matéria lecionada:\",materia,\"; ID:\",id)\n",
        "  elif opcao == 3:\n",
        "    print(\"Você selecionou Cadastro do Aluno! Responda a alguns questionamentos sobre seus dados:\")\n",
        "    aluno = str(input(\"Qual seu nome de usuário? \"))\n",
        "    sen = float(input(\"Qual sua senha? \"))\n",
        "    mat = str(input(\"Que matéria você estuda? \"))\n",
        "    ano = float(input(\"Qual a sua série? \"))\n",
        "    print(\"As informações fornecidas foram: Usuário:\",us,\"; Senha:\",se,\"; Nome:\",aluno,\"; Senha fornecida:\",sen,\"; Matéria:\",mat,\"; Série:\",ano)\n",
        "  elif opcao == 4:\n",
        "    print(\"Você selecionou Calculadora! Te direcionaremos a uma calculadora funcional.\")\n",
        "    print(\"Bom dia, informe os números com que quer trabalhar\")\n",
        "\n",
        "    a = float(input(\"Primeiro número: \"))\n",
        "    b = float(input(\"Segundo número: \"))\n",
        "\n",
        "    print(\"Operações: Adição = 1, Subtração = 2, Multiplicação = 3, Divisão = 4\")\n",
        "    operacao = int(input(\"Qual operação desejada? (1/2/3/4): \"))\n",
        "\n",
        "    if operacao == 1:\n",
        "      soma = a+b\n",
        "      print(soma)\n",
        "    elif operacao == 2:\n",
        "      subtracao = a-b\n",
        "      print(subtracao)\n",
        "    elif operacao == 3:\n",
        "      multiplicacao = a*b\n",
        "      print(multiplicacao)\n",
        "    elif operacao == 4:\n",
        "      if b != 0:\n",
        "        divisao = a/b\n",
        "        print(divisao)\n",
        "      else:\n",
        "        print(\"Erro: Divisão por zero!\")\n",
        "else:\n",
        "  print(\"Usuário ou senha incorretos, tente novamente mais tarde.\")"
      ]
    }
  ]
}